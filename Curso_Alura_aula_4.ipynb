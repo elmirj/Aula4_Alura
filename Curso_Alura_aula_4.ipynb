{
  "nbformat": 4,
  "nbformat_minor": 0,
  "metadata": {
    "colab": {
      "provenance": [],
      "authorship_tag": "ABX9TyOUBkk5n5Vr285L+JSHeeKt",
      "include_colab_link": true
    },
    "kernelspec": {
      "name": "python3",
      "display_name": "Python 3"
    },
    "language_info": {
      "name": "python"
    }
  },
  "cells": [
    {
      "cell_type": "markdown",
      "metadata": {
        "id": "view-in-github",
        "colab_type": "text"
      },
      "source": [
        "<a href=\"https://colab.research.google.com/github/elmirj/Aula4_Alura/blob/main/Curso_Alura_aula_4.ipynb\" target=\"_parent\"><img src=\"https://colab.research.google.com/assets/colab-badge.svg\" alt=\"Open In Colab\"/></a>"
      ]
    },
    {
      "cell_type": "markdown",
      "source": [
        "Instalando SDK do Google"
      ],
      "metadata": {
        "id": "MW7qVT7n0WLA"
      }
    },
    {
      "cell_type": "code",
      "source": [
        "!pip install -q -U google-generativeai"
      ],
      "metadata": {
        "id": "75M20BjZ0S1Z"
      },
      "execution_count": null,
      "outputs": []
    },
    {
      "cell_type": "code",
      "execution_count": null,
      "metadata": {
        "id": "hUsAZ0DTzpvr"
      },
      "outputs": [],
      "source": [
        "import google.generativeai as genai\n",
        "from google.colab import usedata\n",
        "my_api_key = userdata.get('SECRET_KEY')\n",
        "genai.configure(api_key=my_api_key)"
      ]
    },
    {
      "cell_type": "markdown",
      "source": [
        "Listar os modelos disponíveis"
      ],
      "metadata": {
        "id": "w--uPuoczzRS"
      }
    },
    {
      "cell_type": "code",
      "source": [
        "# for -> comando de repetição\n",
        "for m in genai.list_models():\n",
        "  if 'generateContent' in m.supported_generation_methods:\n",
        "    print(m.name)"
      ],
      "metadata": {
        "colab": {
          "base_uri": "https://localhost:8080/",
          "height": 138
        },
        "id": "P3KQpmtTzwi-",
        "outputId": "61ca625a-430c-400b-cc2b-10b1777de440"
      },
      "execution_count": null,
      "outputs": [
        {
          "output_type": "stream",
          "name": "stdout",
          "text": [
            "models/gemini-1.0-pro\n",
            "models/gemini-1.0-pro-001\n",
            "models/gemini-1.0-pro-latest\n",
            "models/gemini-1.0-pro-vision-latest\n",
            "models/gemini-1.5-pro-latest\n",
            "models/gemini-pro\n",
            "models/gemini-pro-vision\n"
          ]
        }
      ]
    },
    {
      "cell_type": "code",
      "source": [
        "generation_config = {\n",
        "    'candidate_count': 1,\n",
        "    'temperature': 0.5\n",
        "}"
      ],
      "metadata": {
        "id": "7tOiSI7R5Q1K"
      },
      "execution_count": null,
      "outputs": []
    },
    {
      "cell_type": "code",
      "source": [
        "safety_sttings = {\n",
        "    'HARASSMENT': 'BLOCK_NONE',\n",
        "    'HATE': 'BLOCK_NONE',\n",
        "    'SEXUAL': 'BLOCK_NONE',\n",
        "    'DANGEROUS': 'BLOCK_NONE'\n",
        "}"
      ],
      "metadata": {
        "id": "HxWU0l_fH5Wq"
      },
      "execution_count": null,
      "outputs": []
    },
    {
      "cell_type": "code",
      "source": [
        "model = genai.GenerativeModel('gemini-pro')"
      ],
      "metadata": {
        "id": "nNeWVRJPJZf0"
      },
      "execution_count": null,
      "outputs": []
    },
    {
      "cell_type": "code",
      "source": [
        "response = model.generate_content(\"Estou aprendendo sobre IA, me dê algumas sugestões para estudo.\")\n",
        "print(response.text)"
      ],
      "metadata": {
        "colab": {
          "base_uri": "https://localhost:8080/",
          "height": 538
        },
        "id": "mdLzWrRhJiYv",
        "outputId": "f65458bc-d57d-46b9-cdca-e3fb1bce296a"
      },
      "execution_count": null,
      "outputs": [
        {
          "output_type": "stream",
          "name": "stdout",
          "text": [
            "**Cursos e Certificações**\n",
            "\n",
            "* **Coursera:** IA Essencial, Aprendizado de Máquina Especializado, Redes Neurais para Iniciantes\n",
            "* **edX:** IA e Aprendizado de Máquina, Introdução à IA, Dados e Tomada de Decisão\n",
            "* **Udemy:** Curso Completo de IA, Curso de Ciência de Dados e IA, Introdução ao Aprendizado de Máquina com Python\n",
            "* **MIT OpenCourseWare:** Introdução à IA, Aprendizado de Máquina, Visão Computacional\n",
            "* **Andrew Ng's DeepLearning.ai:** Curso de Especialização em Aprendizado de Máquina, Curso de Especialização em Aprendizado Profundo\n",
            "\n",
            "**Livros**\n",
            "\n",
            "* **\"Introdução à Inteligência Artificial\"** por Russell e Norvig\n",
            "* **\"Inteligência Artificial: Um Curso Moderno\"** por Stuart Russell e Peter Norvig\n",
            "* **\"Aprendizado de Máquina\"** por Tom Mitchell\n",
            "* **\"Aprendizado Profundo\"** por Ian Goodfellow, Yoshua Bengio e Aaron Courville\n",
            "* **\"Inteligência Artificial: Um Guia Prático\"** por Kevin Warwick\n",
            "\n",
            "**Tutoriais e Artigos**\n",
            "\n",
            "* **IBM Developer:** Tutoriais sobre IA, Aprendizado de Máquina, Aprendizado Profundo\n",
            "* **Google AI Blog:** Artigos sobre IA aplicada, pesquisa e tendências\n",
            "* **OpenAI:** Documentação e recursos sobre IA, Aprendizado de Máquina, Aprendizado Profundo\n",
            "* **Towards Data Science:** Artigos sobre IA, Aprendizado de Máquina, Ciência de Dados\n",
            "* **Kaggle:** Tutoriais, concursos e fóruns sobre IA e Aprendizado de Máquina\n",
            "\n",
            "**Recursos Adicionais**\n",
            "\n",
            "* **Conferências:** Participe de conferências de IA, como NeurIPS, ICML, AAAI\n",
            "* **Meetups:** Encontre meetups e grupos locais relacionados a IA\n",
            "* **Comunidades online:** Junte-se a comunidades como o subreddit r/MachineLearning ou grupos do LinkedIn sobre IA\n",
            "* **Experimente:** Comece a trabalhar em pequenos projetos de IA para aplicar o que você aprendeu\n"
          ]
        }
      ]
    },
    {
      "cell_type": "code",
      "source": [
        "chat = model.start_chat(history=[])"
      ],
      "metadata": {
        "id": "wcCR5MnSLWfr"
      },
      "execution_count": null,
      "outputs": []
    },
    {
      "cell_type": "code",
      "source": [
        "prompt = input('Esperando prompt: ')\n",
        "\n",
        "while prompt != 'fim':\n",
        "  response = chat.send_message(prompt)\n",
        "  print('Resposta :' ,response.text, '\\n')\n",
        "  prompt = input('Esperando prompt: ')"
      ],
      "metadata": {
        "colab": {
          "base_uri": "https://localhost:8080/",
          "height": 191
        },
        "id": "NBFmwyl2YKcZ",
        "outputId": "8fd4a691-53e0-4cbb-fe17-4555691d1f4c"
      },
      "execution_count": null,
      "outputs": [
        {
          "name": "stdout",
          "output_type": "stream",
          "text": [
            "Esperando prompt: Que ano estamos?\n",
            "Resposta : 2023 \n",
            "\n",
            "Esperando prompt: Qual a capital do Japão?\n",
            "Resposta : Tóquio \n",
            "\n",
            "Esperando prompt: Qual a comida típica deste país?\n",
            "Resposta : Sushi \n",
            "\n",
            "Esperando prompt: fim\n"
          ]
        }
      ]
    },
    {
      "cell_type": "markdown",
      "source": [
        "Melhorando a visualização"
      ],
      "metadata": {
        "id": "QOOdiETuddvy"
      }
    },
    {
      "cell_type": "code",
      "source": [
        "#Melhorando a visualização\n",
        "#Código disponível em https://ai.google.dev/tutorials/python_quickstart#import_packages\n",
        "\n",
        "import textwrap\n",
        "from IPython.display import display\n",
        "from IPython.display import Markdown\n",
        "\n",
        "def to_markdown(text):\n",
        "    text = text.replace('.','   *')\n",
        "    return Markdown(textwrap.indent(text, '>', predicate=lambda _: True))\n",
        "\n",
        "#Imprimindo o histórico\n",
        "for message in chat.history:\n",
        "    display(to_markdown(f'**{message.role}**: {message.parts[0].text}'))\n",
        "    print('---------------------------------------')"
      ],
      "metadata": {
        "colab": {
          "base_uri": "https://localhost:8080/",
          "height": 393
        },
        "id": "ji14kcMbcBWt",
        "outputId": "e139ad3f-d8c0-481b-85de-36ed36f65868"
      },
      "execution_count": null,
      "outputs": [
        {
          "output_type": "display_data",
          "data": {
            "text/plain": [
              "<IPython.core.display.Markdown object>"
            ],
            "text/markdown": ">**user**: Que ano estamos?"
          },
          "metadata": {}
        },
        {
          "output_type": "stream",
          "name": "stdout",
          "text": [
            "---------------------------------------\n"
          ]
        },
        {
          "output_type": "display_data",
          "data": {
            "text/plain": [
              "<IPython.core.display.Markdown object>"
            ],
            "text/markdown": ">**model**: 2023"
          },
          "metadata": {}
        },
        {
          "output_type": "stream",
          "name": "stdout",
          "text": [
            "---------------------------------------\n"
          ]
        },
        {
          "output_type": "display_data",
          "data": {
            "text/plain": [
              "<IPython.core.display.Markdown object>"
            ],
            "text/markdown": ">**user**: Qual a capital do Japão?"
          },
          "metadata": {}
        },
        {
          "output_type": "stream",
          "name": "stdout",
          "text": [
            "---------------------------------------\n"
          ]
        },
        {
          "output_type": "display_data",
          "data": {
            "text/plain": [
              "<IPython.core.display.Markdown object>"
            ],
            "text/markdown": ">**model**: Tóquio"
          },
          "metadata": {}
        },
        {
          "output_type": "stream",
          "name": "stdout",
          "text": [
            "---------------------------------------\n"
          ]
        },
        {
          "output_type": "display_data",
          "data": {
            "text/plain": [
              "<IPython.core.display.Markdown object>"
            ],
            "text/markdown": ">**user**: Qual a comida típica deste país?"
          },
          "metadata": {}
        },
        {
          "output_type": "stream",
          "name": "stdout",
          "text": [
            "---------------------------------------\n"
          ]
        },
        {
          "output_type": "display_data",
          "data": {
            "text/plain": [
              "<IPython.core.display.Markdown object>"
            ],
            "text/markdown": ">**model**: Sushi"
          },
          "metadata": {}
        },
        {
          "output_type": "stream",
          "name": "stdout",
          "text": [
            "---------------------------------------\n"
          ]
        }
      ]
    }
  ]
}